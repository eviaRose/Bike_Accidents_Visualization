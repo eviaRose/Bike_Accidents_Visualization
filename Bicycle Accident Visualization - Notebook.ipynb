{
 "cells": [
  {
   "cell_type": "markdown",
   "id": "42f4015d",
   "metadata": {},
   "source": [
    "# Data visualization Project"
   ]
  },
  {
   "cell_type": "code",
   "execution_count": 2,
   "id": "f9645290",
   "metadata": {},
   "outputs": [],
   "source": [
    "import pandas as pd\n",
    "import numpy as np\n",
    "import matplotlib as plt\n",
    "import seaborn as sns\n",
    "from pySankey.sankey import sankey\n",
    "\n",
    "\n",
    "accidents = pd.read_csv('Accidents.csv')\n",
    "bikers = pd.read_csv('Bikers.csv')"
   ]
  },
  {
   "cell_type": "code",
   "execution_count": 3,
   "id": "23536f8a",
   "metadata": {},
   "outputs": [],
   "source": [
    "# Combining data into one dataframe\n",
    "accidents['Gender'] = bikers['Gender']\n",
    "accidents['Severity'] = bikers['Severity']\n",
    "accidents['Age_Grp'] = bikers['Age_Grp']"
   ]
  },
  {
   "cell_type": "code",
   "execution_count": 4,
   "id": "e667b8dd",
   "metadata": {},
   "outputs": [
    {
     "name": "stdout",
     "output_type": "stream",
     "text": [
      "<class 'pandas.core.frame.DataFrame'>\n",
      "RangeIndex: 827861 entries, 0 to 827860\n",
      "Data columns (total 14 columns):\n",
      " #   Column                Non-Null Count   Dtype  \n",
      "---  ------                --------------   -----  \n",
      " 0   Accident_Index        827861 non-null  object \n",
      " 1   Number_of_Vehicles    827861 non-null  int64  \n",
      " 2   Number_of_Casualties  827861 non-null  int64  \n",
      " 3   Date                  827861 non-null  object \n",
      " 4   Time                  827861 non-null  object \n",
      " 5   Speed_limit           827861 non-null  float64\n",
      " 6   Road_conditions       827861 non-null  object \n",
      " 7   Weather_conditions    827861 non-null  object \n",
      " 8   Day                   827861 non-null  object \n",
      " 9   Road_type             827861 non-null  object \n",
      " 10  Light_conditions      827861 non-null  object \n",
      " 11  Gender                827861 non-null  object \n",
      " 12  Severity              827861 non-null  object \n",
      " 13  Age_Grp               827861 non-null  object \n",
      "dtypes: float64(1), int64(2), object(11)\n",
      "memory usage: 88.4+ MB\n"
     ]
    }
   ],
   "source": [
    "accidents.info()"
   ]
  },
  {
   "cell_type": "markdown",
   "id": "e185f4b7",
   "metadata": {},
   "source": [
    "-------"
   ]
  },
  {
   "cell_type": "markdown",
   "id": "fd746a61",
   "metadata": {},
   "source": [
    "## Vis #01 - Accident Severity - Light Conditions\n",
    "\n",
    "#### The Visualization\n",
    "a sankey graph illustration the number of accidents by severity and light conditions\n",
    "- Width of route = # of Accidents\n",
    "- Color = Severity (Fatal, Slight, Serious)\n",
    "- Right sankey = Light Conditions\n",
    "    * Daylight - broad daylight\n",
    "    * Darkness lights lit - Darkness, street lights are present and lit.\n",
    "    * Darkness no lights - Darkness, street lights are non-present or not lit.\n",
    "\n",
    "#### Hypothesis \n",
    "we assume the severity of the accident has a reverse correlation with the light conditions,\n",
    "a.i - worse lighting correlates with higher severity.\n",
    "\n",
    "#### Visualization Knowledge\n",
    "The visualization shows us most fatal take place in daylight and complete darkness conditions, most\n",
    "slight severity accidents take place in the daylight.\n",
    "\n",
    "#### Limitations\n",
    "The scale is not normalized, the dataset contains more accidents in the daylight then any other\n",
    "lighting conditon - *need to normalize the scale*\n",
    "\n",
    "\n"
   ]
  },
  {
   "cell_type": "code",
   "execution_count": 6,
   "id": "1660a264",
   "metadata": {},
   "outputs": [
    {
     "data": {
      "image/png": "[encoded data removed]",
      "text/plain": [
       "<Figure size 432x432 with 1 Axes>"
      ]
     },
     "metadata": {
      "needs_background": "light"
     },
     "output_type": "display_data"
    }
   ],
   "source": [
    "#df = pd.read_csv(url, sep=\" \", names=[\"true\", \"predicted\"])\n",
    "colors = {\n",
    "    \"Slight\": \"yellow\",\n",
    "    \"Serious\": \"orange\",\n",
    "    \"Fatal\": \"maroon\",\n",
    "    \"Daylight\": \"grey\",\n",
    "    \"Darkness lights lit\": \"grey\",\n",
    "    \"Darkness no lights\": \"black\"\n",
    "}\n",
    "\n",
    "sankey(accidents['Severity'], accidents['Light_conditions'], aspect=20, colorDict=colors, fontsize=12)"
   ]
  },
  {
   "cell_type": "markdown",
   "id": "13941337",
   "metadata": {},
   "source": [
    "-----"
   ]
  },
  {
   "cell_type": "markdown",
   "id": "3962d213",
   "metadata": {},
   "source": [
    "### Future work\n",
    "\n",
    "#### Graphs to create\n",
    "\n",
    "#### Tal\n",
    "1. Severity clustering based of speed limit (instead of dots - bicycle)\n",
    "    * graph type - group scatter\n",
    "    * Speed limit\n",
    "    * Severity\n",
    "    \n",
    "#### Oriel\n",
    "2. The number of accidents per year(filter) by hours of the day (8-16,16-00,00-8), by day \n",
    "    * graph type - bar plot (horizontal)\n",
    "    * day\n",
    "    * year\n",
    "    * time - need to be binned to 3 groups\n",
    "3. Sankey - created above.\n",
    "    * Rework, make interactive\n",
    "\n",
    "#### Evyatar\n",
    "4. road type X severity/weather counting accidents/casualties\n",
    "    * graph type- Sankey / something similar\n",
    "5. age group X light conditions (poor eye-sight) counts accidents/casualties "
   ]
  },
  {
   "cell_type": "code",
   "execution_count": null,
   "id": "da907412",
   "metadata": {},
   "outputs": [],
   "source": []
  }
 ],
 "metadata": {
  "kernelspec": {
   "display_name": "Python 3 (ipykernel)",
   "language": "python",
   "name": "python3"
  },
  "language_info": {
   "codemirror_mode": {
    "name": "ipython",
    "version": 3
   },
   "file_extension": ".py",
   "mimetype": "text/x-python",
   "name": "python",
   "nbconvert_exporter": "python",
   "pygments_lexer": "ipython3",
   "version": "3.9.6"
  }
 },
 "nbformat": 4,
 "nbformat_minor": 5
}
